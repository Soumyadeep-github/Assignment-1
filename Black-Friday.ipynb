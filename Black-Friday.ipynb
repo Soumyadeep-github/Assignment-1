{
 "cells": [
  {
   "cell_type": "code",
   "execution_count": 1,
   "metadata": {},
   "outputs": [],
   "source": [
    "import numpy as np\n",
    "import pandas as pd\n",
    "import matplotlib.pyplot as plt\n",
    "import matplotlib\n",
    "import seaborn as sns\n",
    "# !pip install matplotlib"
   ]
  },
  {
   "cell_type": "markdown",
   "metadata": {},
   "source": [
    "<h2>Importing the data</h2>"
   ]
  },
  {
   "cell_type": "code",
   "execution_count": 2,
   "metadata": {},
   "outputs": [
    {
     "data": {
      "text/html": [
       "<div>\n",
       "<style scoped>\n",
       "    .dataframe tbody tr th:only-of-type {\n",
       "        vertical-align: middle;\n",
       "    }\n",
       "\n",
       "    .dataframe tbody tr th {\n",
       "        vertical-align: top;\n",
       "    }\n",
       "\n",
       "    .dataframe thead th {\n",
       "        text-align: right;\n",
       "    }\n",
       "</style>\n",
       "<table border=\"1\" class=\"dataframe\">\n",
       "  <thead>\n",
       "    <tr style=\"text-align: right;\">\n",
       "      <th></th>\n",
       "      <th>User_ID</th>\n",
       "      <th>Product_ID</th>\n",
       "      <th>Gender</th>\n",
       "      <th>Age</th>\n",
       "      <th>Occupation</th>\n",
       "      <th>City_Category</th>\n",
       "      <th>Stay_In_Current_City_Years</th>\n",
       "      <th>Marital_Status</th>\n",
       "      <th>Product_Category_1</th>\n",
       "      <th>Product_Category_2</th>\n",
       "      <th>Product_Category_3</th>\n",
       "    </tr>\n",
       "  </thead>\n",
       "  <tbody>\n",
       "    <tr>\n",
       "      <td>0</td>\n",
       "      <td>1000004</td>\n",
       "      <td>P00128942</td>\n",
       "      <td>M</td>\n",
       "      <td>46-50</td>\n",
       "      <td>7</td>\n",
       "      <td>B</td>\n",
       "      <td>2</td>\n",
       "      <td>1</td>\n",
       "      <td>1</td>\n",
       "      <td>11.0</td>\n",
       "      <td>NaN</td>\n",
       "    </tr>\n",
       "    <tr>\n",
       "      <td>1</td>\n",
       "      <td>1000009</td>\n",
       "      <td>P00113442</td>\n",
       "      <td>M</td>\n",
       "      <td>26-35</td>\n",
       "      <td>17</td>\n",
       "      <td>C</td>\n",
       "      <td>0</td>\n",
       "      <td>0</td>\n",
       "      <td>3</td>\n",
       "      <td>5.0</td>\n",
       "      <td>NaN</td>\n",
       "    </tr>\n",
       "    <tr>\n",
       "      <td>2</td>\n",
       "      <td>1000010</td>\n",
       "      <td>P00288442</td>\n",
       "      <td>F</td>\n",
       "      <td>36-45</td>\n",
       "      <td>1</td>\n",
       "      <td>B</td>\n",
       "      <td>4+</td>\n",
       "      <td>1</td>\n",
       "      <td>5</td>\n",
       "      <td>14.0</td>\n",
       "      <td>NaN</td>\n",
       "    </tr>\n",
       "    <tr>\n",
       "      <td>3</td>\n",
       "      <td>1000010</td>\n",
       "      <td>P00145342</td>\n",
       "      <td>F</td>\n",
       "      <td>36-45</td>\n",
       "      <td>1</td>\n",
       "      <td>B</td>\n",
       "      <td>4+</td>\n",
       "      <td>1</td>\n",
       "      <td>4</td>\n",
       "      <td>9.0</td>\n",
       "      <td>NaN</td>\n",
       "    </tr>\n",
       "    <tr>\n",
       "      <td>4</td>\n",
       "      <td>1000011</td>\n",
       "      <td>P00053842</td>\n",
       "      <td>F</td>\n",
       "      <td>26-35</td>\n",
       "      <td>1</td>\n",
       "      <td>C</td>\n",
       "      <td>1</td>\n",
       "      <td>0</td>\n",
       "      <td>4</td>\n",
       "      <td>5.0</td>\n",
       "      <td>12.0</td>\n",
       "    </tr>\n",
       "  </tbody>\n",
       "</table>\n",
       "</div>"
      ],
      "text/plain": [
       "   User_ID Product_ID Gender    Age  Occupation City_Category  \\\n",
       "0  1000004  P00128942      M  46-50           7             B   \n",
       "1  1000009  P00113442      M  26-35          17             C   \n",
       "2  1000010  P00288442      F  36-45           1             B   \n",
       "3  1000010  P00145342      F  36-45           1             B   \n",
       "4  1000011  P00053842      F  26-35           1             C   \n",
       "\n",
       "  Stay_In_Current_City_Years  Marital_Status  Product_Category_1  \\\n",
       "0                          2               1                   1   \n",
       "1                          0               0                   3   \n",
       "2                         4+               1                   5   \n",
       "3                         4+               1                   4   \n",
       "4                          1               0                   4   \n",
       "\n",
       "   Product_Category_2  Product_Category_3  \n",
       "0                11.0                 NaN  \n",
       "1                 5.0                 NaN  \n",
       "2                14.0                 NaN  \n",
       "3                 9.0                 NaN  \n",
       "4                 5.0                12.0  "
      ]
     },
     "execution_count": 2,
     "metadata": {},
     "output_type": "execute_result"
    }
   ],
   "source": [
    "train = pd.read_csv(\"train_dr.csv\")\n",
    "test = pd.read_csv(\"Desktop/test.csv/test.csv\")\n",
    "train.head()\n",
    "test.head()"
   ]
  },
  {
   "cell_type": "markdown",
   "metadata": {},
   "source": [
    "<h2>Cleaning the data</h2>"
   ]
  },
  {
   "cell_type": "code",
   "execution_count": 3,
   "metadata": {},
   "outputs": [
    {
     "name": "stdout",
     "output_type": "stream",
     "text": [
      "Null columns: \n",
      "User_ID                            0\n",
      "Product_ID                         0\n",
      "Gender                             0\n",
      "Age                                0\n",
      "Occupation                         0\n",
      "City_Category                      0\n",
      "Stay_In_Current_City_Years         0\n",
      "Marital_Status                     0\n",
      "Product_Category_1                 0\n",
      "Product_Category_2            173638\n",
      "Product_Category_3            383247\n",
      "Purchase                           0\n",
      "dtype: int64\n",
      "                             Total    Percent\n",
      "User_ID                          0   0.000000\n",
      "Product_ID                       0   0.000000\n",
      "Gender                           0   0.000000\n",
      "Age                              0   0.000000\n",
      "Occupation                       0   0.000000\n",
      "City_Category                    0   0.000000\n",
      "Stay_In_Current_City_Years       0   0.000000\n",
      "Marital_Status                   0   0.000000\n",
      "Product_Category_1               0   0.000000\n",
      "Product_Category_2          173638  31.566643\n",
      "Product_Category_3          383247  69.672659\n",
      "Purchase                         0   0.000000\n"
     ]
    }
   ],
   "source": [
    "#calculating the percentage of missing data\n",
    "missing = train.isnull().sum()\n",
    "print(\"Null columns: \")\n",
    "print(missing)\n",
    "percent_miss = (missing/train.isnull().count())*100\n",
    "missing_val = pd.concat([missing,percent_miss],axis=1,keys=['Total','Percent'])\n",
    "print(missing_val)"
   ]
  },
  {
   "cell_type": "code",
   "execution_count": 4,
   "metadata": {},
   "outputs": [
    {
     "name": "stdout",
     "output_type": "stream",
     "text": [
      "Null columns: \n",
      "User_ID                       0\n",
      "Product_ID                    0\n",
      "Gender                        0\n",
      "Age                           0\n",
      "Occupation                    0\n",
      "City_Category                 0\n",
      "Stay_In_Current_City_Years    0\n",
      "Marital_Status                0\n",
      "Product_Category_1            0\n",
      "Product_Category_2            0\n",
      "Product_Category_3            0\n",
      "dtype: int64\n"
     ]
    },
    {
     "data": {
      "text/html": [
       "<div>\n",
       "<style scoped>\n",
       "    .dataframe tbody tr th:only-of-type {\n",
       "        vertical-align: middle;\n",
       "    }\n",
       "\n",
       "    .dataframe tbody tr th {\n",
       "        vertical-align: top;\n",
       "    }\n",
       "\n",
       "    .dataframe thead th {\n",
       "        text-align: right;\n",
       "    }\n",
       "</style>\n",
       "<table border=\"1\" class=\"dataframe\">\n",
       "  <thead>\n",
       "    <tr style=\"text-align: right;\">\n",
       "      <th></th>\n",
       "      <th>User_ID</th>\n",
       "      <th>Product_ID</th>\n",
       "      <th>Gender</th>\n",
       "      <th>Age</th>\n",
       "      <th>Occupation</th>\n",
       "      <th>City_Category</th>\n",
       "      <th>Stay_In_Current_City_Years</th>\n",
       "      <th>Marital_Status</th>\n",
       "      <th>Product_Category_1</th>\n",
       "      <th>Product_Category_2</th>\n",
       "      <th>Product_Category_3</th>\n",
       "    </tr>\n",
       "  </thead>\n",
       "  <tbody>\n",
       "    <tr>\n",
       "      <td>count</td>\n",
       "      <td>2.335990e+05</td>\n",
       "      <td>233599</td>\n",
       "      <td>233599</td>\n",
       "      <td>233599</td>\n",
       "      <td>233599.000000</td>\n",
       "      <td>233599</td>\n",
       "      <td>233599</td>\n",
       "      <td>233599.000000</td>\n",
       "      <td>233599.000000</td>\n",
       "      <td>233599.000000</td>\n",
       "      <td>233599.000000</td>\n",
       "    </tr>\n",
       "    <tr>\n",
       "      <td>unique</td>\n",
       "      <td>NaN</td>\n",
       "      <td>3491</td>\n",
       "      <td>2</td>\n",
       "      <td>7</td>\n",
       "      <td>NaN</td>\n",
       "      <td>3</td>\n",
       "      <td>5</td>\n",
       "      <td>NaN</td>\n",
       "      <td>NaN</td>\n",
       "      <td>NaN</td>\n",
       "      <td>NaN</td>\n",
       "    </tr>\n",
       "    <tr>\n",
       "      <td>top</td>\n",
       "      <td>NaN</td>\n",
       "      <td>P00265242</td>\n",
       "      <td>M</td>\n",
       "      <td>26-35</td>\n",
       "      <td>NaN</td>\n",
       "      <td>B</td>\n",
       "      <td>1</td>\n",
       "      <td>NaN</td>\n",
       "      <td>NaN</td>\n",
       "      <td>NaN</td>\n",
       "      <td>NaN</td>\n",
       "    </tr>\n",
       "    <tr>\n",
       "      <td>freq</td>\n",
       "      <td>NaN</td>\n",
       "      <td>829</td>\n",
       "      <td>175772</td>\n",
       "      <td>93428</td>\n",
       "      <td>NaN</td>\n",
       "      <td>98566</td>\n",
       "      <td>82604</td>\n",
       "      <td>NaN</td>\n",
       "      <td>NaN</td>\n",
       "      <td>NaN</td>\n",
       "      <td>NaN</td>\n",
       "    </tr>\n",
       "    <tr>\n",
       "      <td>mean</td>\n",
       "      <td>1.003029e+06</td>\n",
       "      <td>NaN</td>\n",
       "      <td>NaN</td>\n",
       "      <td>NaN</td>\n",
       "      <td>8.085407</td>\n",
       "      <td>NaN</td>\n",
       "      <td>NaN</td>\n",
       "      <td>0.410070</td>\n",
       "      <td>5.276542</td>\n",
       "      <td>9.896168</td>\n",
       "      <td>12.899482</td>\n",
       "    </tr>\n",
       "    <tr>\n",
       "      <td>std</td>\n",
       "      <td>1.726505e+03</td>\n",
       "      <td>NaN</td>\n",
       "      <td>NaN</td>\n",
       "      <td>NaN</td>\n",
       "      <td>6.521146</td>\n",
       "      <td>NaN</td>\n",
       "      <td>NaN</td>\n",
       "      <td>0.491847</td>\n",
       "      <td>3.736380</td>\n",
       "      <td>4.233686</td>\n",
       "      <td>2.280320</td>\n",
       "    </tr>\n",
       "    <tr>\n",
       "      <td>min</td>\n",
       "      <td>1.000001e+06</td>\n",
       "      <td>NaN</td>\n",
       "      <td>NaN</td>\n",
       "      <td>NaN</td>\n",
       "      <td>0.000000</td>\n",
       "      <td>NaN</td>\n",
       "      <td>NaN</td>\n",
       "      <td>0.000000</td>\n",
       "      <td>1.000000</td>\n",
       "      <td>2.000000</td>\n",
       "      <td>3.000000</td>\n",
       "    </tr>\n",
       "    <tr>\n",
       "      <td>25%</td>\n",
       "      <td>1.001527e+06</td>\n",
       "      <td>NaN</td>\n",
       "      <td>NaN</td>\n",
       "      <td>NaN</td>\n",
       "      <td>2.000000</td>\n",
       "      <td>NaN</td>\n",
       "      <td>NaN</td>\n",
       "      <td>0.000000</td>\n",
       "      <td>1.000000</td>\n",
       "      <td>8.000000</td>\n",
       "      <td>13.000000</td>\n",
       "    </tr>\n",
       "    <tr>\n",
       "      <td>50%</td>\n",
       "      <td>1.003070e+06</td>\n",
       "      <td>NaN</td>\n",
       "      <td>NaN</td>\n",
       "      <td>NaN</td>\n",
       "      <td>7.000000</td>\n",
       "      <td>NaN</td>\n",
       "      <td>NaN</td>\n",
       "      <td>0.000000</td>\n",
       "      <td>5.000000</td>\n",
       "      <td>10.000000</td>\n",
       "      <td>13.000000</td>\n",
       "    </tr>\n",
       "    <tr>\n",
       "      <td>75%</td>\n",
       "      <td>1.004477e+06</td>\n",
       "      <td>NaN</td>\n",
       "      <td>NaN</td>\n",
       "      <td>NaN</td>\n",
       "      <td>14.000000</td>\n",
       "      <td>NaN</td>\n",
       "      <td>NaN</td>\n",
       "      <td>1.000000</td>\n",
       "      <td>8.000000</td>\n",
       "      <td>14.000000</td>\n",
       "      <td>13.000000</td>\n",
       "    </tr>\n",
       "    <tr>\n",
       "      <td>max</td>\n",
       "      <td>1.006040e+06</td>\n",
       "      <td>NaN</td>\n",
       "      <td>NaN</td>\n",
       "      <td>NaN</td>\n",
       "      <td>20.000000</td>\n",
       "      <td>NaN</td>\n",
       "      <td>NaN</td>\n",
       "      <td>1.000000</td>\n",
       "      <td>18.000000</td>\n",
       "      <td>18.000000</td>\n",
       "      <td>18.000000</td>\n",
       "    </tr>\n",
       "  </tbody>\n",
       "</table>\n",
       "</div>"
      ],
      "text/plain": [
       "             User_ID Product_ID  Gender     Age     Occupation City_Category  \\\n",
       "count   2.335990e+05     233599  233599  233599  233599.000000        233599   \n",
       "unique           NaN       3491       2       7            NaN             3   \n",
       "top              NaN  P00265242       M   26-35            NaN             B   \n",
       "freq             NaN        829  175772   93428            NaN         98566   \n",
       "mean    1.003029e+06        NaN     NaN     NaN       8.085407           NaN   \n",
       "std     1.726505e+03        NaN     NaN     NaN       6.521146           NaN   \n",
       "min     1.000001e+06        NaN     NaN     NaN       0.000000           NaN   \n",
       "25%     1.001527e+06        NaN     NaN     NaN       2.000000           NaN   \n",
       "50%     1.003070e+06        NaN     NaN     NaN       7.000000           NaN   \n",
       "75%     1.004477e+06        NaN     NaN     NaN      14.000000           NaN   \n",
       "max     1.006040e+06        NaN     NaN     NaN      20.000000           NaN   \n",
       "\n",
       "       Stay_In_Current_City_Years  Marital_Status  Product_Category_1  \\\n",
       "count                      233599   233599.000000       233599.000000   \n",
       "unique                          5             NaN                 NaN   \n",
       "top                             1             NaN                 NaN   \n",
       "freq                        82604             NaN                 NaN   \n",
       "mean                          NaN        0.410070            5.276542   \n",
       "std                           NaN        0.491847            3.736380   \n",
       "min                           NaN        0.000000            1.000000   \n",
       "25%                           NaN        0.000000            1.000000   \n",
       "50%                           NaN        0.000000            5.000000   \n",
       "75%                           NaN        1.000000            8.000000   \n",
       "max                           NaN        1.000000           18.000000   \n",
       "\n",
       "        Product_Category_2  Product_Category_3  \n",
       "count        233599.000000       233599.000000  \n",
       "unique                 NaN                 NaN  \n",
       "top                    NaN                 NaN  \n",
       "freq                   NaN                 NaN  \n",
       "mean              9.896168           12.899482  \n",
       "std               4.233686            2.280320  \n",
       "min               2.000000            3.000000  \n",
       "25%               8.000000           13.000000  \n",
       "50%              10.000000           13.000000  \n",
       "75%              14.000000           13.000000  \n",
       "max              18.000000           18.000000  "
      ]
     },
     "execution_count": 4,
     "metadata": {},
     "output_type": "execute_result"
    }
   ],
   "source": [
    "#calculating the percentage of missing data\n",
    "from sklearn.impute import SimpleImputer\n",
    "imputer = SimpleImputer(missing_values=np.nan, strategy='mean')\n",
    "impu_2 = imputer.fit_transform(test[['Product_Category_2']])\n",
    "test['Product_Category_2'] = np.round(impu_2)\n",
    "impu_3 = imputer.fit_transform(test[['Product_Category_3']])\n",
    "test['Product_Category_3'] = np.round(impu_3)\n",
    "print(\"Null columns: \")\n",
    "print(test.isnull().sum())\n",
    "test.describe(include='all')"
   ]
  },
  {
   "cell_type": "code",
   "execution_count": 5,
   "metadata": {},
   "outputs": [
    {
     "name": "stdout",
     "output_type": "stream",
     "text": [
      "Null columns: \n",
      "User_ID                       0\n",
      "Product_ID                    0\n",
      "Gender                        0\n",
      "Age                           0\n",
      "Occupation                    0\n",
      "City_Category                 0\n",
      "Stay_In_Current_City_Years    0\n",
      "Marital_Status                0\n",
      "Product_Category_1            0\n",
      "Product_Category_2            0\n",
      "Product_Category_3            0\n",
      "Purchase                      0\n",
      "dtype: int64\n"
     ]
    },
    {
     "data": {
      "text/html": [
       "<div>\n",
       "<style scoped>\n",
       "    .dataframe tbody tr th:only-of-type {\n",
       "        vertical-align: middle;\n",
       "    }\n",
       "\n",
       "    .dataframe tbody tr th {\n",
       "        vertical-align: top;\n",
       "    }\n",
       "\n",
       "    .dataframe thead th {\n",
       "        text-align: right;\n",
       "    }\n",
       "</style>\n",
       "<table border=\"1\" class=\"dataframe\">\n",
       "  <thead>\n",
       "    <tr style=\"text-align: right;\">\n",
       "      <th></th>\n",
       "      <th>User_ID</th>\n",
       "      <th>Product_ID</th>\n",
       "      <th>Gender</th>\n",
       "      <th>Age</th>\n",
       "      <th>Occupation</th>\n",
       "      <th>City_Category</th>\n",
       "      <th>Stay_In_Current_City_Years</th>\n",
       "      <th>Marital_Status</th>\n",
       "      <th>Product_Category_1</th>\n",
       "      <th>Product_Category_2</th>\n",
       "      <th>Product_Category_3</th>\n",
       "      <th>Purchase</th>\n",
       "    </tr>\n",
       "  </thead>\n",
       "  <tbody>\n",
       "    <tr>\n",
       "      <td>count</td>\n",
       "      <td>5.500680e+05</td>\n",
       "      <td>550068</td>\n",
       "      <td>550068</td>\n",
       "      <td>550068</td>\n",
       "      <td>550068.000000</td>\n",
       "      <td>550068</td>\n",
       "      <td>550068</td>\n",
       "      <td>550068.000000</td>\n",
       "      <td>550068.000000</td>\n",
       "      <td>550068.000000</td>\n",
       "      <td>550068.000000</td>\n",
       "      <td>550068.000000</td>\n",
       "    </tr>\n",
       "    <tr>\n",
       "      <td>unique</td>\n",
       "      <td>NaN</td>\n",
       "      <td>3631</td>\n",
       "      <td>2</td>\n",
       "      <td>7</td>\n",
       "      <td>NaN</td>\n",
       "      <td>3</td>\n",
       "      <td>5</td>\n",
       "      <td>NaN</td>\n",
       "      <td>NaN</td>\n",
       "      <td>NaN</td>\n",
       "      <td>NaN</td>\n",
       "      <td>NaN</td>\n",
       "    </tr>\n",
       "    <tr>\n",
       "      <td>top</td>\n",
       "      <td>NaN</td>\n",
       "      <td>P00265242</td>\n",
       "      <td>M</td>\n",
       "      <td>26-35</td>\n",
       "      <td>NaN</td>\n",
       "      <td>B</td>\n",
       "      <td>1</td>\n",
       "      <td>NaN</td>\n",
       "      <td>NaN</td>\n",
       "      <td>NaN</td>\n",
       "      <td>NaN</td>\n",
       "      <td>NaN</td>\n",
       "    </tr>\n",
       "    <tr>\n",
       "      <td>freq</td>\n",
       "      <td>NaN</td>\n",
       "      <td>1880</td>\n",
       "      <td>414259</td>\n",
       "      <td>219587</td>\n",
       "      <td>NaN</td>\n",
       "      <td>231173</td>\n",
       "      <td>193821</td>\n",
       "      <td>NaN</td>\n",
       "      <td>NaN</td>\n",
       "      <td>NaN</td>\n",
       "      <td>NaN</td>\n",
       "      <td>NaN</td>\n",
       "    </tr>\n",
       "    <tr>\n",
       "      <td>mean</td>\n",
       "      <td>1.003029e+06</td>\n",
       "      <td>NaN</td>\n",
       "      <td>NaN</td>\n",
       "      <td>NaN</td>\n",
       "      <td>8.076707</td>\n",
       "      <td>NaN</td>\n",
       "      <td>NaN</td>\n",
       "      <td>0.409653</td>\n",
       "      <td>5.404270</td>\n",
       "      <td>9.892101</td>\n",
       "      <td>12.899387</td>\n",
       "      <td>9263.968713</td>\n",
       "    </tr>\n",
       "    <tr>\n",
       "      <td>std</td>\n",
       "      <td>1.727592e+03</td>\n",
       "      <td>NaN</td>\n",
       "      <td>NaN</td>\n",
       "      <td>NaN</td>\n",
       "      <td>6.522660</td>\n",
       "      <td>NaN</td>\n",
       "      <td>NaN</td>\n",
       "      <td>0.491770</td>\n",
       "      <td>3.936211</td>\n",
       "      <td>4.208490</td>\n",
       "      <td>2.276942</td>\n",
       "      <td>5023.065394</td>\n",
       "    </tr>\n",
       "    <tr>\n",
       "      <td>min</td>\n",
       "      <td>1.000001e+06</td>\n",
       "      <td>NaN</td>\n",
       "      <td>NaN</td>\n",
       "      <td>NaN</td>\n",
       "      <td>0.000000</td>\n",
       "      <td>NaN</td>\n",
       "      <td>NaN</td>\n",
       "      <td>0.000000</td>\n",
       "      <td>1.000000</td>\n",
       "      <td>2.000000</td>\n",
       "      <td>3.000000</td>\n",
       "      <td>12.000000</td>\n",
       "    </tr>\n",
       "    <tr>\n",
       "      <td>25%</td>\n",
       "      <td>1.001516e+06</td>\n",
       "      <td>NaN</td>\n",
       "      <td>NaN</td>\n",
       "      <td>NaN</td>\n",
       "      <td>2.000000</td>\n",
       "      <td>NaN</td>\n",
       "      <td>NaN</td>\n",
       "      <td>0.000000</td>\n",
       "      <td>1.000000</td>\n",
       "      <td>8.000000</td>\n",
       "      <td>13.000000</td>\n",
       "      <td>5823.000000</td>\n",
       "    </tr>\n",
       "    <tr>\n",
       "      <td>50%</td>\n",
       "      <td>1.003077e+06</td>\n",
       "      <td>NaN</td>\n",
       "      <td>NaN</td>\n",
       "      <td>NaN</td>\n",
       "      <td>7.000000</td>\n",
       "      <td>NaN</td>\n",
       "      <td>NaN</td>\n",
       "      <td>0.000000</td>\n",
       "      <td>5.000000</td>\n",
       "      <td>10.000000</td>\n",
       "      <td>13.000000</td>\n",
       "      <td>8047.000000</td>\n",
       "    </tr>\n",
       "    <tr>\n",
       "      <td>75%</td>\n",
       "      <td>1.004478e+06</td>\n",
       "      <td>NaN</td>\n",
       "      <td>NaN</td>\n",
       "      <td>NaN</td>\n",
       "      <td>14.000000</td>\n",
       "      <td>NaN</td>\n",
       "      <td>NaN</td>\n",
       "      <td>1.000000</td>\n",
       "      <td>8.000000</td>\n",
       "      <td>14.000000</td>\n",
       "      <td>13.000000</td>\n",
       "      <td>12054.000000</td>\n",
       "    </tr>\n",
       "    <tr>\n",
       "      <td>max</td>\n",
       "      <td>1.006040e+06</td>\n",
       "      <td>NaN</td>\n",
       "      <td>NaN</td>\n",
       "      <td>NaN</td>\n",
       "      <td>20.000000</td>\n",
       "      <td>NaN</td>\n",
       "      <td>NaN</td>\n",
       "      <td>1.000000</td>\n",
       "      <td>20.000000</td>\n",
       "      <td>18.000000</td>\n",
       "      <td>18.000000</td>\n",
       "      <td>23961.000000</td>\n",
       "    </tr>\n",
       "  </tbody>\n",
       "</table>\n",
       "</div>"
      ],
      "text/plain": [
       "             User_ID Product_ID  Gender     Age     Occupation City_Category  \\\n",
       "count   5.500680e+05     550068  550068  550068  550068.000000        550068   \n",
       "unique           NaN       3631       2       7            NaN             3   \n",
       "top              NaN  P00265242       M   26-35            NaN             B   \n",
       "freq             NaN       1880  414259  219587            NaN        231173   \n",
       "mean    1.003029e+06        NaN     NaN     NaN       8.076707           NaN   \n",
       "std     1.727592e+03        NaN     NaN     NaN       6.522660           NaN   \n",
       "min     1.000001e+06        NaN     NaN     NaN       0.000000           NaN   \n",
       "25%     1.001516e+06        NaN     NaN     NaN       2.000000           NaN   \n",
       "50%     1.003077e+06        NaN     NaN     NaN       7.000000           NaN   \n",
       "75%     1.004478e+06        NaN     NaN     NaN      14.000000           NaN   \n",
       "max     1.006040e+06        NaN     NaN     NaN      20.000000           NaN   \n",
       "\n",
       "       Stay_In_Current_City_Years  Marital_Status  Product_Category_1  \\\n",
       "count                      550068   550068.000000       550068.000000   \n",
       "unique                          5             NaN                 NaN   \n",
       "top                             1             NaN                 NaN   \n",
       "freq                       193821             NaN                 NaN   \n",
       "mean                          NaN        0.409653            5.404270   \n",
       "std                           NaN        0.491770            3.936211   \n",
       "min                           NaN        0.000000            1.000000   \n",
       "25%                           NaN        0.000000            1.000000   \n",
       "50%                           NaN        0.000000            5.000000   \n",
       "75%                           NaN        1.000000            8.000000   \n",
       "max                           NaN        1.000000           20.000000   \n",
       "\n",
       "        Product_Category_2  Product_Category_3       Purchase  \n",
       "count        550068.000000       550068.000000  550068.000000  \n",
       "unique                 NaN                 NaN            NaN  \n",
       "top                    NaN                 NaN            NaN  \n",
       "freq                   NaN                 NaN            NaN  \n",
       "mean              9.892101           12.899387    9263.968713  \n",
       "std               4.208490            2.276942    5023.065394  \n",
       "min               2.000000            3.000000      12.000000  \n",
       "25%               8.000000           13.000000    5823.000000  \n",
       "50%              10.000000           13.000000    8047.000000  \n",
       "75%              14.000000           13.000000   12054.000000  \n",
       "max              18.000000           18.000000   23961.000000  "
      ]
     },
     "execution_count": 5,
     "metadata": {},
     "output_type": "execute_result"
    }
   ],
   "source": [
    "#dropping columns that are not necessary\n",
    "train1 = train.drop(['User_ID', 'Product_ID'],axis=1)\n",
    "#replacing NaN with mean values in their respective columns\n",
    "from sklearn.impute import SimpleImputer\n",
    "imputer = SimpleImputer(missing_values=np.nan, strategy='mean')\n",
    "imputer_2 = imputer.fit_transform(train1[['Product_Category_2']])\n",
    "train['Product_Category_2'] = np.round(imputer_2)\n",
    "imputer_3 = imputer.fit_transform(train1[['Product_Category_3']])\n",
    "train['Product_Category_3'] = np.round(imputer_3)\n",
    "print(\"Null columns: \")\n",
    "print(train.isnull().sum())\n",
    "train.describe(include='all')"
   ]
  },
  {
   "cell_type": "code",
   "execution_count": 6,
   "metadata": {},
   "outputs": [
    {
     "data": {
      "text/plain": [
       "User_ID                         int64\n",
       "Product_ID                     object\n",
       "Gender                         object\n",
       "Age                            object\n",
       "Occupation                      int64\n",
       "City_Category                  object\n",
       "Stay_In_Current_City_Years     object\n",
       "Marital_Status                  int64\n",
       "Product_Category_1              int64\n",
       "Product_Category_2            float64\n",
       "Product_Category_3            float64\n",
       "Purchase                        int64\n",
       "dtype: object"
      ]
     },
     "execution_count": 6,
     "metadata": {},
     "output_type": "execute_result"
    }
   ],
   "source": [
    "train.dtypes"
   ]
  },
  {
   "cell_type": "markdown",
   "metadata": {},
   "source": [
    "<!--\n",
    "# # a=list(train.Occupation.unique())\n",
    "# # a.sort()\n",
    "# a = train.Occupation.value_counts()\n",
    "# # a=pd.DataFrame(a)\n",
    "# train.Occupation.sort_values().unique()\n",
    "# train.corr()\n",
    "-->"
   ]
  },
  {
   "cell_type": "markdown",
   "metadata": {},
   "source": [
    "<!--\n",
    "# labels = []\n",
    "# values = []\n",
    "\n",
    "# for uniqueOccupationValue in train['Occupation'].sort_values().unique():\n",
    "#     OccPurchaserData = train.loc[train['Occupation'] == uniqueOccupationValue]\n",
    "#     OccPurchaserMean = np.mean(OccPurchaserData['Purchase'])\n",
    "#     labels.append(uniqueOccupationValue)\n",
    "#     values.append(OccPurchaserMean)\n",
    "    \n",
    "# gy= list(train.Purchase)\n",
    "# yu= []\n",
    "# for i in iterrows(gy):\n",
    "#     a = i/max(a)\n",
    "#     yu.append(a)\n",
    "\n",
    "# plt.bar(yu,values, width=.9, facecolor='b', edgecolor='w', alpha=.5)\n",
    "# plt.text(-1,10800,'Average purchase in black friday based on Occupation')\n",
    "-->"
   ]
  },
  {
   "cell_type": "code",
   "execution_count": 7,
   "metadata": {},
   "outputs": [
    {
     "data": {
      "text/html": [
       "<div>\n",
       "<style scoped>\n",
       "    .dataframe tbody tr th:only-of-type {\n",
       "        vertical-align: middle;\n",
       "    }\n",
       "\n",
       "    .dataframe tbody tr th {\n",
       "        vertical-align: top;\n",
       "    }\n",
       "\n",
       "    .dataframe thead th {\n",
       "        text-align: right;\n",
       "    }\n",
       "</style>\n",
       "<table border=\"1\" class=\"dataframe\">\n",
       "  <thead>\n",
       "    <tr style=\"text-align: right;\">\n",
       "      <th></th>\n",
       "      <th>Purchase</th>\n",
       "      <th>Occupation</th>\n",
       "    </tr>\n",
       "  </thead>\n",
       "  <tbody>\n",
       "    <tr>\n",
       "      <td>Purchase</td>\n",
       "      <td>1.000000</td>\n",
       "      <td>0.020833</td>\n",
       "    </tr>\n",
       "    <tr>\n",
       "      <td>Occupation</td>\n",
       "      <td>0.020833</td>\n",
       "      <td>1.000000</td>\n",
       "    </tr>\n",
       "  </tbody>\n",
       "</table>\n",
       "</div>"
      ],
      "text/plain": [
       "            Purchase  Occupation\n",
       "Purchase    1.000000    0.020833\n",
       "Occupation  0.020833    1.000000"
      ]
     },
     "execution_count": 7,
     "metadata": {},
     "output_type": "execute_result"
    }
   ],
   "source": [
    "# bins = np.linspace(min(train['Occupation']), max(train['Occupation']), 20)\n",
    "# grp_names = ['1','2','3','4','5','6','7','8','9','10','11','12','13','14','15','16','17','18','19']\n",
    "# train['Occupation_binned'] = pd.cut(train['Occupation'], bins, labels=grp_names, include_lowest=True )\n",
    "# train[['Occupation','Occupation_binned']]\n",
    "# a = train['Age'].unique()\n",
    "\n",
    "bins = ['0','17','25','35','45','50','55','60']\n",
    "bin_1 = ['17','25','35','45','50','55','60']\n",
    "grp_names = ['teens','milleanials','thirties','forties','fifties','middle-aged','old']\n",
    "train['Age_binned'] = pd.cut(train['Age'], bins, labels = grp_names, include_lowest= True)\n",
    "train[['Age','Age_binned']].head(30)\n",
    "train['Age_binned_test'] = pd.cut(train['Age'], bins, labels = bin_1, include_lowest= True)\n",
    "train['Age_binned_test']=train['Age_binned_test'].cat.codes\n",
    "train[['Age','Age_binned_test']].head(10)\n",
    "train[['Purchase', 'Occupation']].corr()"
   ]
  },
  {
   "cell_type": "markdown",
   "metadata": {},
   "source": [
    "<h2>Analysing the data(for task Occupation vs Purchase)</h2>"
   ]
  },
  {
   "cell_type": "code",
   "execution_count": 8,
   "metadata": {},
   "outputs": [
    {
     "ename": "NameError",
     "evalue": "name 'pyplot' is not defined",
     "output_type": "error",
     "traceback": [
      "\u001b[1;31m---------------------------------------------------------------------------\u001b[0m",
      "\u001b[1;31mNameError\u001b[0m                                 Traceback (most recent call last)",
      "\u001b[1;32m<ipython-input-8-76ecd5c495e9>\u001b[0m in \u001b[0;36m<module>\u001b[1;34m\u001b[0m\n\u001b[0;32m      1\u001b[0m \u001b[1;31m# a=np.corrcoef(train.Purchase,train.Age_binned_test)\u001b[0m\u001b[1;33m\u001b[0m\u001b[1;33m\u001b[0m\u001b[1;33m\u001b[0m\u001b[0m\n\u001b[0;32m      2\u001b[0m \u001b[0ma4_dims\u001b[0m \u001b[1;33m=\u001b[0m \u001b[1;33m(\u001b[0m\u001b[1;36m22\u001b[0m\u001b[1;33m,\u001b[0m \u001b[1;36m10\u001b[0m\u001b[1;33m)\u001b[0m\u001b[1;33m\u001b[0m\u001b[1;33m\u001b[0m\u001b[0m\n\u001b[1;32m----> 3\u001b[1;33m \u001b[0mfig\u001b[0m\u001b[1;33m,\u001b[0m \u001b[0max\u001b[0m \u001b[1;33m=\u001b[0m \u001b[0mpyplot\u001b[0m\u001b[1;33m.\u001b[0m\u001b[0msubplots\u001b[0m\u001b[1;33m(\u001b[0m\u001b[0mfigsize\u001b[0m\u001b[1;33m=\u001b[0m\u001b[0ma4_dims\u001b[0m\u001b[1;33m)\u001b[0m\u001b[1;33m\u001b[0m\u001b[1;33m\u001b[0m\u001b[0m\n\u001b[0m\u001b[0;32m      4\u001b[0m \u001b[1;31m# train[['Purchase','Occupation']].corr()\u001b[0m\u001b[1;33m\u001b[0m\u001b[1;33m\u001b[0m\u001b[1;33m\u001b[0m\u001b[0m\n\u001b[0;32m      5\u001b[0m \u001b[0msns\u001b[0m\u001b[1;33m.\u001b[0m\u001b[0mboxplot\u001b[0m\u001b[1;33m(\u001b[0m\u001b[0my\u001b[0m\u001b[1;33m=\u001b[0m\u001b[1;34m'Purchase'\u001b[0m\u001b[1;33m,\u001b[0m \u001b[0mx\u001b[0m\u001b[1;33m=\u001b[0m\u001b[1;34m'Occupation'\u001b[0m\u001b[1;33m,\u001b[0m\u001b[0max\u001b[0m\u001b[1;33m=\u001b[0m\u001b[0max\u001b[0m\u001b[1;33m,\u001b[0m\u001b[0mdata\u001b[0m\u001b[1;33m=\u001b[0m\u001b[0mtrain\u001b[0m\u001b[1;33m,\u001b[0m\u001b[0mwidth\u001b[0m\u001b[1;33m=\u001b[0m\u001b[1;36m0.5\u001b[0m\u001b[1;33m,\u001b[0m\u001b[0mpalette\u001b[0m\u001b[1;33m=\u001b[0m\u001b[1;34m\"colorblind\"\u001b[0m\u001b[1;33m)\u001b[0m\u001b[1;33m\u001b[0m\u001b[1;33m\u001b[0m\u001b[0m\n",
      "\u001b[1;31mNameError\u001b[0m: name 'pyplot' is not defined"
     ]
    }
   ],
   "source": [
    "# a=np.corrcoef(train.Purchase,train.Age_binned_test)\n",
    "a4_dims = (22, 10)\n",
    "fig, ax = pyplot.subplots(figsize=a4_dims)\n",
    "# train[['Purchase','Occupation']].corr()\n",
    "sns.boxplot(y='Purchase', x='Occupation',ax=ax,data=train,width=0.5,palette=\"colorblind\")\n",
    "plt.text(8,25500,\"Occupations VS Purchase\")"
   ]
  },
  {
   "cell_type": "markdown",
   "metadata": {},
   "source": [
    "<h2>Model development (for task Occupation vs Purchase)</h2>"
   ]
  },
  {
   "cell_type": "code",
   "execution_count": 9,
   "metadata": {},
   "outputs": [
    {
     "data": {
      "image/png": "[encoded data removed]",
      "text/plain": [
       "<Figure size 432x288 with 1 Axes>"
      ]
     },
     "metadata": {
      "needs_background": "light"
     },
     "output_type": "display_data"
    }
   ],
   "source": [
    "l = []\n",
    "v = []\n",
    "\n",
    "for i in train['Occupation'].sort_values().unique():\n",
    "    O = train.loc[train['Occupation'] == i]\n",
    "    op = np.mean(O['Purchase'])\n",
    "    l.append(i)\n",
    "    v.append(op)\n",
    "    \n",
    "plt.bar(l,v, width=0.9, facecolor='b', edgecolor='w', alpha=0.35)\n",
    "plt.text(0,10700,'Average purchase VS Occupation')\n",
    "         \n",
    "plt.show()"
   ]
  },
  {
   "cell_type": "code",
   "execution_count": 10,
   "metadata": {},
   "outputs": [
    {
     "data": {
      "text/plain": [
       "LinearRegression(copy_X=True, fit_intercept=True, n_jobs=None, normalize=False)"
      ]
     },
     "execution_count": 10,
     "metadata": {},
     "output_type": "execute_result"
    }
   ],
   "source": [
    "from sklearn.linear_model import LinearRegression\n",
    "lr = LinearRegression()\n",
    "X=train[['Occupation']]\n",
    "Y=train[['Purchase']]\n",
    "lr.fit(X,Y)"
   ]
  },
  {
   "cell_type": "code",
   "execution_count": 11,
   "metadata": {},
   "outputs": [
    {
     "data": {
      "text/plain": [
       "<matplotlib.axes._subplots.AxesSubplot at 0x27bb24b4940>"
      ]
     },
     "execution_count": 11,
     "metadata": {},
     "output_type": "execute_result"
    },
    {
     "data": {
      "image/png": "[encoded data removed]",
      "text/plain": [
       "<Figure size 432x288 with 1 Axes>"
      ]
     },
     "metadata": {
      "needs_background": "light"
     },
     "output_type": "display_data"
    }
   ],
   "source": [
    "sns.regplot(x=\"Occupation\", y=\"Purchase\", data=train)"
   ]
  },
  {
   "cell_type": "code",
   "execution_count": 13,
   "metadata": {},
   "outputs": [],
   "source": [
    "class Plotpolly:\n",
    "    def PlotPolly(model, independent_variable, dependent_variabble, Name):\n",
    "        x_new = np.linspace(0, 20, 100)\n",
    "        y_new = model(x_new)\n",
    "\n",
    "        plt.plot(independent_variable, dependent_variabble, '.', x_new, y_new, '-')\n",
    "        plt.title('Polynomial Fit with Matplotlib for Occupation ~ Purchase')\n",
    "        ax = plt.gca()\n",
    "        ax.set_facecolor((0.898, 0.898, 0.898))\n",
    "        fig = plt.gcf()\n",
    "        plt.xlabel(Name)\n",
    "        plt.ylabel('Purchase')\n",
    "    \n",
    "        plt.show()\n",
    "        plt.close()"
   ]
  },
  {
   "cell_type": "code",
   "execution_count": 15,
   "metadata": {},
   "outputs": [
    {
     "name": "stderr",
     "output_type": "stream",
     "text": [
      "C:\\ProgramData\\Anaconda3\\lib\\site-packages\\ipykernel_launcher.py:3: RankWarning: Polyfit may be poorly conditioned\n",
      "  This is separate from the ipykernel package so we can avoid doing imports until\n"
     ]
    },
    {
     "name": "stdout",
     "output_type": "stream",
     "text": [
      "           33             32             31             30\n",
      "5.128e-34 x  - 1.171e-32 x  - 2.097e-31 x  - 2.094e-31 x \n",
      "              29             28             27             26\n",
      " + 6.717e-29 x  + 1.809e-27 x  + 2.419e-26 x  - 1.842e-26 x \n",
      "              25             24             23             22\n",
      " - 1.029e-23 x  - 3.006e-22 x  - 4.788e-21 x  - 1.811e-20 x \n",
      "              21             20             19            18\n",
      " + 1.491e-18 x  + 5.219e-17 x  + 8.866e-16 x  + 2.74e-15 x \n",
      "              17             16            15             14\n",
      " - 3.116e-13 x  - 9.548e-12 x  - 1.05e-10 x  + 1.741e-09 x \n",
      "              13             12             11             10\n",
      " + 8.422e-08 x  + 8.144e-07 x  - 2.489e-05 x  - 0.0006361 x \n",
      "             9          8       7         6         5        4        3\n",
      " + 0.007635 x + 0.2616 x - 6.6 x + 65.55 x - 352.4 x + 1086 x - 1893 x\n",
      "         2\n",
      " + 1805 x - 877.2 x + 9125\n"
     ]
    },
    {
     "data": {
      "image/png": "[encoded data removed]",
      "text/plain": [
       "<Figure size 432x288 with 1 Axes>"
      ]
     },
     "metadata": {
      "needs_background": "light"
     },
     "output_type": "display_data"
    }
   ],
   "source": [
    "x=train['Occupation']\n",
    "y=train['Purchase']\n",
    "f = np.polyfit(x, y, 33)\n",
    "P_33 = np.poly1d(f)\n",
    "print(P_33)\n",
    "Plotpolly.PlotPolly(P_33,x,y,'Occupation')"
   ]
  },
  {
   "cell_type": "code",
   "execution_count": 16,
   "metadata": {},
   "outputs": [
    {
     "name": "stderr",
     "output_type": "stream",
     "text": [
      "C:\\ProgramData\\Anaconda3\\lib\\site-packages\\ipykernel_launcher.py:3: RankWarning: Polyfit may be poorly conditioned\n",
      "  This is separate from the ipykernel package so we can avoid doing imports until\n"
     ]
    },
    {
     "name": "stdout",
     "output_type": "stream",
     "text": [
      "           80             79             78            77\n",
      "1.382e-95 x  + 2.279e-94 x  + 3.612e-93 x  + 5.39e-92 x \n",
      "              76             75             74             73\n",
      " + 7.253e-91 x  + 7.788e-90 x  + 2.928e-89 x  - 1.763e-87 x \n",
      "              72            71             70             69\n",
      " - 7.817e-86 x  - 2.33e-84 x  - 5.995e-83 x  - 1.422e-81 x \n",
      "              68             67             66             65\n",
      " - 3.196e-80 x  - 6.898e-79 x  - 1.439e-77 x  - 2.909e-76 x \n",
      "              64             63            62             61\n",
      " - 5.706e-75 x  - 1.083e-73 x  - 1.98e-72 x  - 3.456e-71 x \n",
      "              60             59             58             57\n",
      " - 5.652e-70 x  - 8.342e-69 x  - 1.002e-67 x  - 5.557e-67 x \n",
      "              56         55             54             53\n",
      " + 1.925e-65 x  + 1e-63 x  + 3.202e-62 x  + 8.648e-61 x \n",
      "              52             51             50             49\n",
      " + 2.125e-59 x  + 4.894e-58 x  + 1.069e-56 x  + 2.225e-55 x \n",
      "              48             47             46             45\n",
      " + 4.414e-54 x  + 8.294e-53 x  + 1.456e-51 x  + 2.319e-50 x \n",
      "              44             43             42             41\n",
      " + 3.109e-49 x  + 2.599e-48 x  - 2.788e-47 x  - 2.204e-45 x \n",
      "              40             39             38             37\n",
      " - 7.555e-44 x  - 2.055e-42 x  - 4.912e-41 x  - 1.063e-39 x \n",
      "              36             35             34             33\n",
      " - 2.091e-38 x  - 3.674e-37 x  - 5.458e-36 x  - 5.608e-35 x \n",
      "              32             31             30             29\n",
      " + 1.483e-34 x  + 2.952e-32 x  + 1.067e-30 x  + 2.804e-29 x \n",
      "              28             27             26             25\n",
      " + 6.058e-28 x  + 1.078e-26 x  + 1.429e-25 x  + 6.701e-25 x \n",
      "              24             23             22             21\n",
      " - 3.644e-23 x  - 1.591e-21 x  - 4.066e-20 x  - 7.315e-19 x \n",
      "              20             19             18             17\n",
      " - 7.491e-18 x  + 6.418e-17 x  + 5.259e-15 x  + 1.351e-13 x \n",
      "              16             15             14            13\n",
      " + 1.734e-12 x  - 9.952e-12 x  - 1.013e-09 x  - 1.96e-08 x \n",
      "              12             11             10            9           8\n",
      " + 4.432e-08 x  + 9.662e-06 x  + 0.0001034 x  - 0.003855 x - 0.04928 x\n",
      "          7         6         5        4        3        2\n",
      " + 2.437 x - 34.01 x + 249.3 x - 1047 x + 2444 x - 2752 x + 966.7 x + 9124\n"
     ]
    },
    {
     "data": {
      "image/png": "[encoded data removed]",
      "text/plain": [
       "<Figure size 432x288 with 1 Axes>"
      ]
     },
     "metadata": {
      "needs_background": "light"
     },
     "output_type": "display_data"
    }
   ],
   "source": [
    "x=train['Occupation']\n",
    "y=train['Purchase']\n",
    "f = np.polyfit(x, y, 80)\n",
    "P_80 = np.poly1d(f)\n",
    "print(P_80)\n",
    "Plotpolly.PlotPolly(P_80,x,y,'Occupation')"
   ]
  },
  {
   "cell_type": "code",
   "execution_count": 204,
   "metadata": {},
   "outputs": [
    {
     "name": "stderr",
     "output_type": "stream",
     "text": [
      "C:\\ProgramData\\Anaconda3\\lib\\site-packages\\ipykernel_launcher.py:3: RankWarning: Polyfit may be poorly conditioned\n",
      "  This is separate from the ipykernel package so we can avoid doing imports until\n"
     ]
    },
    {
     "name": "stdout",
     "output_type": "stream",
     "text": [
      "           50             49             48             47\n",
      "5.948e-56 x  + 2.366e-55 x  - 7.667e-54 x  - 2.848e-52 x \n",
      "              46             45            44             43\n",
      " - 6.388e-51 x  - 1.115e-49 x  - 1.49e-48 x  - 1.042e-47 x \n",
      "              42             41             40             39\n",
      " + 1.976e-46 x  + 1.113e-44 x  + 3.259e-43 x  + 7.476e-42 x \n",
      "              38             37             36             35\n",
      " + 1.437e-40 x  + 2.271e-39 x  + 2.546e-38 x  + 1.356e-38 x \n",
      "              34             33             32             31\n",
      " - 9.917e-36 x  - 3.707e-34 x  - 9.535e-33 x  - 1.961e-31 x \n",
      "              30             29             28             27\n",
      " - 3.205e-30 x  - 3.492e-29 x  + 7.379e-29 x  + 1.723e-26 x \n",
      "              26            25             24             23\n",
      " + 5.822e-25 x  + 1.33e-23 x  + 2.193e-22 x  + 1.954e-21 x \n",
      "              22             21             20             19\n",
      " - 2.606e-20 x  - 1.686e-18 x  - 4.377e-17 x  - 6.732e-16 x \n",
      "              18             17             16             15\n",
      " - 2.161e-15 x  + 2.198e-13 x  + 7.053e-12 x  + 9.242e-11 x \n",
      "              14             13           12             11\n",
      " - 7.405e-10 x  - 5.511e-08 x  - 7.1e-07 x  + 1.307e-05 x \n",
      "              10            9          8         7         6         5\n",
      " + 0.0004364 x  - 0.004076 x - 0.1781 x + 4.528 x - 49.75 x + 314.9 x\n",
      "         4        3        2\n",
      " - 1200 x + 2627 x - 2840 x + 972.7 x + 9124\n"
     ]
    },
    {
     "data": {
      "image/png": "[encoded data removed]",
      "text/plain": [
       "<Figure size 432x288 with 1 Axes>"
      ]
     },
     "metadata": {
      "needs_background": "light"
     },
     "output_type": "display_data"
    }
   ],
   "source": [
    "x=train['Occupation']\n",
    "y=train['Purchase']\n",
    "f = np.polyfit(x, y, 50)\n",
    "P_50 = np.poly1d(f)\n",
    "print(P_50)\n",
    "PlotPolly(P_50,x,y,'Occupation')"
   ]
  },
  {
   "cell_type": "code",
   "execution_count": 17,
   "metadata": {},
   "outputs": [
    {
     "name": "stderr",
     "output_type": "stream",
     "text": [
      "C:\\ProgramData\\Anaconda3\\lib\\site-packages\\ipykernel_launcher.py:3: RankWarning: Polyfit may be poorly conditioned\n",
      "  This is separate from the ipykernel package so we can avoid doing imports until\n"
     ]
    },
    {
     "name": "stdout",
     "output_type": "stream",
     "text": [
      "           34             33             32             31\n",
      "2.599e-35 x  - 5.079e-34 x  - 1.077e-32 x  - 5.358e-32 x \n",
      "              30             29             28             27\n",
      " + 2.382e-30 x  + 8.292e-29 x  + 1.446e-27 x  + 1.019e-26 x \n",
      "              26             25            24             23\n",
      " - 2.702e-25 x  - 1.243e-23 x  - 2.73e-22 x  - 3.275e-21 x \n",
      "              22             21             20             19\n",
      " + 1.376e-20 x  + 1.816e-18 x  + 4.926e-17 x  + 6.876e-16 x \n",
      "              18             17            16           15\n",
      " - 1.318e-15 x  - 3.375e-13 x  - 8.61e-12 x  - 7.4e-11 x \n",
      "              14             13            12             11\n",
      " + 2.017e-09 x  + 7.716e-08 x  + 5.96e-07 x  - 2.473e-05 x \n",
      "              10            9          8         7         6         5\n",
      " - 0.0005487 x  + 0.007695 x + 0.2267 x - 6.029 x + 60.99 x - 331.3 x\n",
      "         4        3        2\n",
      " + 1028 x - 1800 x + 1727 x - 851.7 x + 9125\n"
     ]
    },
    {
     "data": {
      "image/png": "[encoded data removed]",
      "text/plain": [
       "<Figure size 432x288 with 1 Axes>"
      ]
     },
     "metadata": {
      "needs_background": "light"
     },
     "output_type": "display_data"
    }
   ],
   "source": [
    "x=train['Occupation']\n",
    "y=train['Purchase']\n",
    "f = np.polyfit(x, y, 34)\n",
    "P_34 = np.poly1d(f)\n",
    "print(P_34)\n",
    "Plotpolly.PlotPolly(P_34,x,y,'Occupation')"
   ]
  },
  {
   "cell_type": "markdown",
   "metadata": {},
   "source": [
    "<h2>Model evaluation(for task Occupation vs Purchase)</h2>"
   ]
  },
  {
   "cell_type": "code",
   "execution_count": 206,
   "metadata": {},
   "outputs": [],
   "source": [
    "from sklearn.metrics import r2_score\n",
    "from sklearn.metrics import mean_squared_error"
   ]
  },
  {
   "cell_type": "code",
   "execution_count": 29,
   "metadata": {},
   "outputs": [
    {
     "name": "stdout",
     "output_type": "stream",
     "text": [
      "The R squared is - 0.00043399792792742087\n",
      "MSE : 25220189.81887091\n"
     ]
    }
   ],
   "source": [
    "lr = LinearRegression()\n",
    "X=train[['Occupation']]\n",
    "Y=train[['Purchase']]\n",
    "lr.fit(X,Y)\n",
    "print(\"The R squared is -\", lr.score(X,Y))\n",
    "MSE_lr = mean_squared_error(Y,lr.predict(X))\n",
    "print(\"MSE :\", MSE_lr)"
   ]
  },
  {
   "cell_type": "code",
   "execution_count": 227,
   "metadata": {},
   "outputs": [
    {
     "name": "stdout",
     "output_type": "stream",
     "text": [
      "The R-square value for degree 33 is:  0.003453135208523417\n",
      "MSE : 25144013.543219257\n"
     ]
    }
   ],
   "source": [
    "r_squared = r2_score(y, P_33(x))\n",
    "print('The R-square value for degree 33 is: ', r_squared)\n",
    "MSE=mean_squared_error(train['Purchase'], P_33(x))\n",
    "print('MSE :',MSE)"
   ]
  },
  {
   "cell_type": "code",
   "execution_count": 229,
   "metadata": {},
   "outputs": [
    {
     "name": "stdout",
     "output_type": "stream",
     "text": [
      "The R-square value for degree 80 is:  0.00347712036813963\n",
      "MSE : 25143408.370297108\n"
     ]
    }
   ],
   "source": [
    "r_squared = r2_score(y, P_80(x))\n",
    "print('The R-square value for degree 80 is: ', r_squared)\n",
    "MSE=mean_squared_error(train['Purchase'], P_80(x))\n",
    "print('MSE :',MSE)"
   ]
  },
  {
   "cell_type": "code",
   "execution_count": 208,
   "metadata": {},
   "outputs": [
    {
     "name": "stdout",
     "output_type": "stream",
     "text": [
      "The R-square value for degree 50 is:  0.0034718938622896323\n",
      "MSE : 25143540.240998346\n"
     ]
    }
   ],
   "source": [
    "r_squared = r2_score(y, P_50(x))\n",
    "print('The R-square value for degree 50 is: ', r_squared)\n",
    "MSE=mean_squared_error(train['Purchase'], P_50(x))\n",
    "print('MSE :',MSE)"
   ]
  },
  {
   "cell_type": "code",
   "execution_count": 211,
   "metadata": {},
   "outputs": [
    {
     "name": "stdout",
     "output_type": "stream",
     "text": [
      "The R-square value for degree 34 is:  0.0034540821748000328\n",
      "MSE : 25143989.65018048\n"
     ]
    }
   ],
   "source": [
    "r_squared = r2_score(y, P_34(x))\n",
    "print('The R-square value for degree 34 is: ', r_squared)\n",
    "MSE=mean_squared_error(train['Purchase'], P_34(x))\n",
    "print('MSE :',MSE)"
   ]
  },
  {
   "cell_type": "markdown",
   "metadata": {},
   "source": [
    "<h2>Analysis and preperation (for Dwellers vs Purchase, grouped by city and product)</h2>"
   ]
  },
  {
   "cell_type": "code",
   "execution_count": 319,
   "metadata": {},
   "outputs": [
    {
     "data": {
      "image/png": "[encoded data removed]",
      "text/plain": [
       "<Figure size 432x288 with 1 Axes>"
      ]
     },
     "metadata": {
      "needs_background": "light"
     },
     "output_type": "display_data"
    }
   ],
   "source": [
    "a=train[['Stay_In_Current_City_Years']]\n",
    "d=train['Stay_In_Current_City_Years']\n",
    "c = d.sort_values().unique()\n",
    "\n",
    "def dwellers(var):\n",
    "    r = {}\n",
    "    col = train[var]\n",
    "    for entry in col:\n",
    "        if entry in r.keys():\n",
    "            r[entry]+=1\n",
    "        else:\n",
    "            r[entry]=1\n",
    "    return r\n",
    "count = dwellers('Stay_In_Current_City_Years')\n",
    "# count = pd.Series(count)\n",
    "# count = pd.DataFrame(count)\n",
    "Settlers = count['1']+count['2']+count['3']\n",
    "Migrants = count['0']\n",
    "Locals = count['4+']\n",
    "fg = [Locals,Migrants,Settlers]\n",
    "plt.plot(d,train['Purchase'],'o',color='black')\n",
    "plt.show()"
   ]
  },
  {
   "cell_type": "code",
   "execution_count": 223,
   "metadata": {},
   "outputs": [
    {
     "name": "stdout",
     "output_type": "stream",
     "text": [
      "Trying to find an overall trend, if any.\n"
     ]
    },
    {
     "data": {
      "image/png": "[encoded data removed]",
      "text/plain": [
       "<Figure size 432x288 with 1 Axes>"
      ]
     },
     "metadata": {
      "needs_background": "light"
     },
     "output_type": "display_data"
    }
   ],
   "source": [
    "l = []\n",
    "v = []\n",
    "\n",
    "\n",
    "for i in train['Stay_In_Current_City_Years'].sort_values().unique():\n",
    "    cp = train.loc[train['Stay_In_Current_City_Years'] == i]\n",
    "    cp_mean = np.mean(cp['Purchase'])\n",
    "    l.append(i)\n",
    "    v.append(cp_mean)\n",
    "    \n",
    "print(\"Trying to find an overall trend, if any.\")\n",
    "    \n",
    "plt.bar(l,v)\n",
    "plt.text(1,10000, \"Average Purchase Vs Dwellers\")\n",
    "plt.show()"
   ]
  },
  {
   "cell_type": "markdown",
   "metadata": {},
   "source": [
    "<!--\n",
    "# print(\"Purchases values for Product 1 - \")\n",
    "# CG_1 = Product_1.groupby(['City_Category'])\n",
    "# CG_1_A = CG_1.get_group('A')\n",
    "# plt.subplot(2,2,1)\n",
    "# a=CG_1_A['Stay_In_Current_City_Years'].sort_values()\n",
    "# b=CG_1_A['Purchase']\n",
    "# plt.bar(a,b)\n",
    "# plt.text(2,28000,'City A')\n",
    "# plt.show()\n",
    "\n",
    "# CG_1_B = CG_1.get_group('B')\n",
    "# plt.subplot(2,2,2)\n",
    "# c=CG_1_B['Stay_In_Current_City_Years'].sort_values()\n",
    "# d=CG_1_B['Purchase']\n",
    "# plt.bar(c,d)\n",
    "# plt.text(2,28000,'City B')\n",
    "# plt.show()\n",
    "\n",
    "# CG_2_C = CG_1.get_group('C')\n",
    "# plt.subplot(2,2,3)\n",
    "# e=CG_2_C['Stay_In_Current_City_Years'].sort_values()\n",
    "# f=CG_2_C['Purchase']\n",
    "# plt.bar(e,f)\n",
    "# plt.text(2,28000,'City C')\n",
    "# plt.show()\n",
    "-->"
   ]
  },
  {
   "cell_type": "markdown",
   "metadata": {},
   "source": [
    "<!--\n",
    "# print(\"Purchases values for Product 2 - \")\n",
    "# CG_2 = Product_2.groupby(['City_Category'])\n",
    "# CG_2_A = CG_2.get_group('A')\n",
    "# plt.subplot(2,2,1)\n",
    "# a=CG_2_A['Stay_In_Current_City_Years'].sort_values()\n",
    "# b=CG_2_A['Purchase']\n",
    "# plt.bar(a,b)\n",
    "# plt.text(2,28000,'City A')\n",
    "# plt.show()\n",
    "\n",
    "# CG_2_B = CG_2.get_group('B')\n",
    "# plt.subplot(2,2,2)\n",
    "# c=CG_2_B['Stay_In_Current_City_Years'].sort_values()\n",
    "# d=CG_2_B['Purchase']\n",
    "# plt.bar(c,d)\n",
    "# plt.text(2,28000,'City B')\n",
    "# plt.show()\n",
    "\n",
    "# CG_2_C = CG_2.get_group('C')\n",
    "# plt.subplot(2,2,3)\n",
    "# e=CG_2_C['Stay_In_Current_City_Years'].sort_values()\n",
    "# f=CG_2_C['Purchase']\n",
    "# plt.bar(e,f)\n",
    "# plt.text(2,28000,'City C')\n",
    "# plt.show()\n",
    "-->"
   ]
  },
  {
   "cell_type": "markdown",
   "metadata": {},
   "source": [
    "<!--\n",
    "# print(\"Purchases values for Product 3 - \")\n",
    "# CG_3 = Product_3.groupby(['City_Category'])\n",
    "# CG_3_A = CG_3.get_group('A')\n",
    "# plt.subplot(2,2,1)\n",
    "# a=CG_3_A['Stay_In_Current_City_Years'].sort_values()\n",
    "# b=CG_3_A['Purchase']\n",
    "# plt.bar(a,b)\n",
    "# plt.text(2,28000,'City A')\n",
    "# plt.show()\n",
    "\n",
    "# CG_3_B = CG_3.get_group('B')\n",
    "# plt.subplot(2,2,2)\n",
    "# c=CG_3_B['Stay_In_Current_City_Years'].sort_values()\n",
    "# d=CG_3_B['Purchase']\n",
    "# plt.bar(c,d)\n",
    "# plt.text(2,28000,'City B')\n",
    "# plt.show()\n",
    "\n",
    "# CG_3_C = CG_3.get_group('C')\n",
    "# plt.subplot(2,2,3)\n",
    "# e=CG_3_C['Stay_In_Current_City_Years'].sort_values()\n",
    "# f=CG_3_C['Purchase']\n",
    "# plt.bar(e,f)\n",
    "# plt.text(2,28000,'City C')\n",
    "# plt.show()\n",
    "-->"
   ]
  },
  {
   "cell_type": "markdown",
   "metadata": {},
   "source": [
    "<!--\n",
    "# l_1_A = []\n",
    "# v_1_A = []\n",
    "\n",
    "\n",
    "# for i in CG_1_A['Stay_In_Current_City_Years'].sort_values().unique():\n",
    "#     cp = CG_1_A.loc[CG_1_A['Stay_In_Current_City_Years'] == i]\n",
    "#     cp_mean = np.mean(cp['Purchase'])\n",
    "#     l_1_A.append(i)\n",
    "#     v_1_A.append(cp_mean)\n",
    "  \n",
    "# v_1_A\n",
    "# # plt.bar(l_1_A,v_1_A)\n",
    "# # plt.text(2,11000, \"Average Purchase Vs Dwellers\")\n",
    "# # plt.show()\n",
    "# # str(Product_1)\n",
    "-->"
   ]
  },
  {
   "cell_type": "code",
   "execution_count": 23,
   "metadata": {},
   "outputs": [],
   "source": [
    "%matplotlib inline\n",
    "\n",
    "bins = ['0','1','2','3','4','5']\n",
    "grp_names = ['migrants','settlers','more-settlers','even_more_settlers','locals']\n",
    "train['Stay_binned'] = pd.cut(train['Stay_In_Current_City_Years'], bins, labels = grp_names, include_lowest= True)\n",
    "Product_1 = train.drop(['Product_Category_2', 'Product_Category_3'], axis = 1) \n",
    "Product_2 = train.drop(['Product_Category_1', 'Product_Category_3'], axis = 1) \n",
    "Product_3 = train.drop(['Product_Category_1', 'Product_Category_2'], axis = 1)     \n",
    "\n",
    "\n",
    "def product_per_city(name_of_product,f):\n",
    "    CG = name_of_product.groupby(['City_Category'])\n",
    "    print('The average purchase patterns for:'+f)\n",
    "    args=['A','B','C']\n",
    "    for fg in args:\n",
    "        l = []\n",
    "        v = []\n",
    "        CG1 = CG.get_group(fg)\n",
    "        for i in CG1['Stay_In_Current_City_Years'].sort_values().unique():\n",
    "            cp = CG1.loc[CG1['Stay_In_Current_City_Years'] == i]\n",
    "            cp_mean = np.mean(cp['Purchase'])\n",
    "            l.append(i)\n",
    "            v.append(cp_mean)\n",
    "    \n",
    "        plt.subplot(1,1,1)\n",
    "        c=l\n",
    "        d=v\n",
    "        plt.bar(c,d)\n",
    "        plt.text(2,11000,fg)\n",
    "        plt.xlabel('Dwellers')\n",
    "        plt.ylabel('Purchases')\n",
    "        plt.show()\n",
    "    "
   ]
  },
  {
   "cell_type": "code",
   "execution_count": 24,
   "metadata": {},
   "outputs": [
    {
     "name": "stdout",
     "output_type": "stream",
     "text": [
      "The average purchase patterns for:Product 1\n"
     ]
    },
    {
     "data": {
      "image/png": "[encoded data removed]",
      "text/plain": [
       "<Figure size 432x288 with 1 Axes>"
      ]
     },
     "metadata": {
      "needs_background": "light"
     },
     "output_type": "display_data"
    },
    {
     "data": {
      "image/png": "[encoded data removed]",
      "text/plain": [
       "<Figure size 432x288 with 1 Axes>"
      ]
     },
     "metadata": {
      "needs_background": "light"
     },
     "output_type": "display_data"
    },
    {
     "data": {
      "image/png": "[encoded data removed]",
      "text/plain": [
       "<Figure size 432x288 with 1 Axes>"
      ]
     },
     "metadata": {
      "needs_background": "light"
     },
     "output_type": "display_data"
    }
   ],
   "source": [
    "product_per_city(Product_1,'Product 1')"
   ]
  },
  {
   "cell_type": "code",
   "execution_count": 26,
   "metadata": {},
   "outputs": [
    {
     "name": "stdout",
     "output_type": "stream",
     "text": [
      "The average purchase patterns for:Product 2\n"
     ]
    },
    {
     "data": {
      "image/png": "[encoded data removed]",
      "text/plain": [
       "<Figure size 432x288 with 1 Axes>"
      ]
     },
     "metadata": {
      "needs_background": "light"
     },
     "output_type": "display_data"
    },
    {
     "data": {
      "image/png": "[encoded data removed]",
      "text/plain": [
       "<Figure size 432x288 with 1 Axes>"
      ]
     },
     "metadata": {
      "needs_background": "light"
     },
     "output_type": "display_data"
    },
    {
     "data": {
      "image/png": "[encoded data removed]",
      "text/plain": [
       "<Figure size 432x288 with 1 Axes>"
      ]
     },
     "metadata": {
      "needs_background": "light"
     },
     "output_type": "display_data"
    }
   ],
   "source": [
    "product_per_city(Product_2,'Product 2')"
   ]
  },
  {
   "cell_type": "code",
   "execution_count": 27,
   "metadata": {},
   "outputs": [
    {
     "name": "stdout",
     "output_type": "stream",
     "text": [
      "The average purchase patterns for:Product 3\n"
     ]
    },
    {
     "data": {
      "image/png": "[encoded data removed]",
      "text/plain": [
       "<Figure size 432x288 with 1 Axes>"
      ]
     },
     "metadata": {
      "needs_background": "light"
     },
     "output_type": "display_data"
    },
    {
     "data": {
      "image/png": "[encoded data removed]",
      "text/plain": [
       "<Figure size 432x288 with 1 Axes>"
      ]
     },
     "metadata": {
      "needs_background": "light"
     },
     "output_type": "display_data"
    },
    {
     "data": {
      "image/png": "[encoded data removed]",
      "text/plain": [
       "<Figure size 432x288 with 1 Axes>"
      ]
     },
     "metadata": {
      "needs_background": "light"
     },
     "output_type": "display_data"
    }
   ],
   "source": [
    "product_per_city(Product_3,'Product 3')"
   ]
  },
  {
   "cell_type": "code",
   "execution_count": 198,
   "metadata": {},
   "outputs": [
    {
     "data": {
      "text/html": [
       "<div>\n",
       "<style scoped>\n",
       "    .dataframe tbody tr th:only-of-type {\n",
       "        vertical-align: middle;\n",
       "    }\n",
       "\n",
       "    .dataframe tbody tr th {\n",
       "        vertical-align: top;\n",
       "    }\n",
       "\n",
       "    .dataframe thead th {\n",
       "        text-align: right;\n",
       "    }\n",
       "</style>\n",
       "<table border=\"1\" class=\"dataframe\">\n",
       "  <thead>\n",
       "    <tr style=\"text-align: right;\">\n",
       "      <th></th>\n",
       "      <th>Stay_n_binned</th>\n",
       "      <th>Stay_In_Current_City_Years</th>\n",
       "    </tr>\n",
       "  </thead>\n",
       "  <tbody>\n",
       "    <tr>\n",
       "      <td>0</td>\n",
       "      <td>1</td>\n",
       "      <td>2</td>\n",
       "    </tr>\n",
       "    <tr>\n",
       "      <td>1</td>\n",
       "      <td>1</td>\n",
       "      <td>2</td>\n",
       "    </tr>\n",
       "    <tr>\n",
       "      <td>2</td>\n",
       "      <td>1</td>\n",
       "      <td>2</td>\n",
       "    </tr>\n",
       "    <tr>\n",
       "      <td>3</td>\n",
       "      <td>1</td>\n",
       "      <td>2</td>\n",
       "    </tr>\n",
       "    <tr>\n",
       "      <td>4</td>\n",
       "      <td>4</td>\n",
       "      <td>4+</td>\n",
       "    </tr>\n",
       "  </tbody>\n",
       "</table>\n",
       "</div>"
      ],
      "text/plain": [
       "   Stay_n_binned Stay_In_Current_City_Years\n",
       "0              1                          2\n",
       "1              1                          2\n",
       "2              1                          2\n",
       "3              1                          2\n",
       "4              4                         4+"
      ]
     },
     "execution_count": 198,
     "metadata": {},
     "output_type": "execute_result"
    }
   ],
   "source": [
    "bins = ['0','1','2','3','4','5']\n",
    "bin_1 = ['1','2','3','4','5']\n",
    "\n",
    "train['Stay_n_binned'] = pd.cut(train['Stay_In_Current_City_Years'], bins, labels = bin_1, include_lowest= True)\n",
    "train['Stay_n_binned']=train['Stay_n_binned'].cat.codes\n",
    "train[['Stay_n_binned','Stay_In_Current_City_Years']].head()"
   ]
  },
  {
   "cell_type": "code",
   "execution_count": 37,
   "metadata": {
    "scrolled": true
   },
   "outputs": [],
   "source": [
    "from sklearn.metrics import r2_score\n",
    "from sklearn.metrics import mean_squared_error\n",
    "class measure_metrics_visualisation(Plotpolly):\n",
    "    def poly_product(name_of_product,t):\n",
    "        CG = name_of_product.groupby(['City_Category'])\n",
    "#         def PlotPolly(model, independent_variable, dependent_variabble, Name,fg):\n",
    "#             x_new = np.linspace(0, 20, 100)\n",
    "#             y_new = model(x_new)\n",
    "\n",
    "#             plt.plot(independent_variable, dependent_variabble, '.', x_new, y_new, '-')\n",
    "#             plt.title('Polynomial Fit for Dwellers ~ Purchase for City '+fg)\n",
    "#             ax = plt.gca()\n",
    "#             ax.set_facecolor((0.898, 0.898, 0.898))\n",
    "#             fig = plt.gcf()\n",
    "#             plt.xlabel(Name)\n",
    "#             plt.ylabel('Purchase')\n",
    "\n",
    "#             plt.show()\n",
    "#             plt.close()\n",
    "        print('Conducting polynomial regression on :'+t)\n",
    "        args=['A','B','C']\n",
    "        for fg in args:\n",
    "            CG1 = CG.get_group(fg)\n",
    "            x=CG1['Occupation']\n",
    "            y=CG1['Purchase']\n",
    "            f = np.polyfit(x, y, 2)\n",
    "            P = np.poly1d(f)\n",
    "            print(P)\n",
    "        \n",
    "            Plotpolly.PlotPolly(P,x,y,'Stay_In_Current_City_Years')\n",
    "        \n",
    "            r_squared = r2_score(y, P(x))\n",
    "            print('The R-square value for degree 2 is: ', r_squared)\n",
    "            MSE=mean_squared_error(CG1['Purchase'], P(x))\n",
    "            print('MSE :',MSE)\n",
    "\n",
    "# # def poly_product(name_of_product,t,r):\n",
    "# #     CG = name_of_product.groupby(['City_Category'])\n",
    "# #     print('Conducting polynomial regression on :'+t)\n",
    "# #     args=['A','B','C']\n",
    "# #     for fg in args:\n",
    "# #         CG1 = CG.get_group(fg)\n",
    "# #         x=CG1['Occupation']\n",
    "# #         y=CG1['Purchase']\n",
    "# #         f = np.polyfit(x, y, r)\n",
    "# #         P = np.poly1d(f)\n",
    "# #         print(P)\n",
    "        \n",
    "# #         r_squared = r2_score(y, P(x))\n",
    "# #         print('The R-square value for degree'+str(r)+' is: ', r_squared)\n",
    "# #         MSE=np.square(np.subtract(,Y_pred)).mean() \n",
    "# #         print('MSE :',MSE)"
   ]
  },
  {
   "cell_type": "code",
   "execution_count": 38,
   "metadata": {},
   "outputs": [
    {
     "name": "stdout",
     "output_type": "stream",
     "text": [
      "Conducting polynomial regression on :Product 1\n",
      "        2\n",
      "-5.744 x + 116.3 x + 8612\n"
     ]
    },
    {
     "data": {
      "image/png": "[encoded data removed]",
      "text/plain": [
       "<Figure size 432x288 with 1 Axes>"
      ]
     },
     "metadata": {
      "needs_background": "light"
     },
     "output_type": "display_data"
    },
    {
     "name": "stdout",
     "output_type": "stream",
     "text": [
      "The R-square value for degree 2 is:  0.0016543836572874282\n",
      "MSE : 23893035.73643863\n",
      "        2\n",
      "-2.712 x + 71.53 x + 8868\n"
     ]
    },
    {
     "data": {
      "image/png": "[encoded data removed]",
      "text/plain": [
       "<Figure size 432x288 with 1 Axes>"
      ]
     },
     "metadata": {
      "needs_background": "light"
     },
     "output_type": "display_data"
    },
    {
     "name": "stdout",
     "output_type": "stream",
     "text": [
      "The R-square value for degree 2 is:  0.0010737217047335212\n",
      "MSE : 24530472.779769912\n",
      "        2\n",
      "-3.071 x + 69.94 x + 9474\n"
     ]
    },
    {
     "data": {
      "image/png": "[encoded data removed]",
      "text/plain": [
       "<Figure size 432x288 with 1 Axes>"
      ]
     },
     "metadata": {
      "needs_background": "light"
     },
     "output_type": "display_data"
    },
    {
     "name": "stdout",
     "output_type": "stream",
     "text": [
      "The R-square value for degree 2 is:  0.0006542673711263935\n",
      "MSE : 26912771.238934897\n"
     ]
    }
   ],
   "source": [
    "measure_metrics_visualisation.poly_product(Product_1,'Product 1')"
   ]
  },
  {
   "cell_type": "code",
   "execution_count": null,
   "metadata": {},
   "outputs": [],
   "source": []
  }
 ],
 "metadata": {
  "kernelspec": {
   "display_name": "Python 3",
   "language": "python",
   "name": "python3"
  },
  "language_info": {
   "codemirror_mode": {
    "name": "ipython",
    "version": 3
   },
   "file_extension": ".py",
   "mimetype": "text/x-python",
   "name": "python",
   "nbconvert_exporter": "python",
   "pygments_lexer": "ipython3",
   "version": "3.7.3"
  }
 },
 "nbformat": 4,
 "nbformat_minor": 4
}
